{
 "cells": [
  {
   "cell_type": "markdown",
   "metadata": {},
   "source": [
    "### Histogram plotter"
   ]
  },
  {
   "cell_type": "markdown",
   "metadata": {},
   "source": [
    "-----------"
   ]
  },
  {
   "cell_type": "markdown",
   "metadata": {},
   "source": [
    "#### 1. Case Study:  Plot of Gaussian data"
   ]
  },
  {
   "cell_type": "code",
   "execution_count": 16,
   "metadata": {
    "collapsed": true
   },
   "outputs": [],
   "source": [
    "import random as random\n",
    "import matplotlib.pyplot as plt\n",
    "import math as math\n",
    "import numpy as np"
   ]
  },
  {
   "cell_type": "code",
   "execution_count": 17,
   "metadata": {
    "collapsed": true
   },
   "outputs": [],
   "source": [
    "data_points = 100"
   ]
  },
  {
   "cell_type": "code",
   "execution_count": 43,
   "metadata": {
    "collapsed": false
   },
   "outputs": [],
   "source": [
    "#x = [random.uniform(0.0,10.0) for k in range(data_points)]\n",
    "x = np.random.normal(5, 1, 100000)"
   ]
  },
  {
   "cell_type": "code",
   "execution_count": 44,
   "metadata": {
    "collapsed": false
   },
   "outputs": [
    {
     "data": {
      "text/plain": [
       "array([ 4.97463244,  4.53220668,  3.73256279,  5.34760518,  6.70448723,\n",
       "        6.7285636 ,  4.46832196,  6.02182185,  4.95829785,  5.61225992])"
      ]
     },
     "execution_count": 44,
     "metadata": {},
     "output_type": "execute_result"
    }
   ],
   "source": [
    "x[0:10]"
   ]
  },
  {
   "cell_type": "code",
   "execution_count": 45,
   "metadata": {
    "collapsed": false
   },
   "outputs": [
    {
     "data": {
      "text/plain": [
       "3.141592653589793"
      ]
     },
     "execution_count": 45,
     "metadata": {},
     "output_type": "execute_result"
    }
   ],
   "source": [
    "math.pi"
   ]
  },
  {
   "cell_type": "code",
   "execution_count": 46,
   "metadata": {
    "collapsed": false
   },
   "outputs": [],
   "source": [
    "area = 2*math.pi*np.array(x)**2"
   ]
  },
  {
   "cell_type": "code",
   "execution_count": 47,
   "metadata": {
    "collapsed": false
   },
   "outputs": [
    {
     "data": {
      "text/plain": [
       "array([ 155.48978528,  129.06226485,   87.5374947 ,  179.67950379,\n",
       "        282.43011558,  284.4622178 ,  125.44945694,  227.84299152,\n",
       "        154.47033618,  197.90438694])"
      ]
     },
     "execution_count": 47,
     "metadata": {},
     "output_type": "execute_result"
    }
   ],
   "source": [
    "area[0:10]"
   ]
  },
  {
   "cell_type": "markdown",
   "metadata": {},
   "source": [
    "##### Plot of radious histogram"
   ]
  },
  {
   "cell_type": "code",
   "execution_count": 48,
   "metadata": {
    "collapsed": false
   },
   "outputs": [],
   "source": [
    "%matplotlib inline"
   ]
  },
  {
   "cell_type": "code",
   "execution_count": 61,
   "metadata": {
    "collapsed": false
   },
   "outputs": [
    {
     "data": {
      "text/plain": [
       "<matplotlib.figure.Figure at 0x119f5d150>"
      ]
     },
     "metadata": {},
     "output_type": "display_data"
    },
    {
     "data": {
      "image/png": "[encoded data removed]",
      "text/plain": [
       "<matplotlib.figure.Figure at 0x119f805d0>"
      ]
     },
     "metadata": {},
     "output_type": "display_data"
    }
   ],
   "source": [
    "num_bins =50\n",
    "plt.figure(1)\n",
    "plt.figure(figsize=(10, 8))\n",
    "plt.xlabel(\"radius\")\n",
    "plt.ylabel(\"frequency\")\n",
    "plt.hist(x,num_bins, normed= 1.0, facecolor=\"green\",alpha = 0.5)\n",
    "plt.show()"
   ]
  },
  {
   "cell_type": "markdown",
   "metadata": {},
   "source": [
    "#### Area Histogram"
   ]
  },
  {
   "cell_type": "code",
   "execution_count": 64,
   "metadata": {
    "collapsed": false
   },
   "outputs": [
    {
     "data": {
      "text/plain": [
       "<matplotlib.figure.Figure at 0x119f5df10>"
      ]
     },
     "metadata": {},
     "output_type": "display_data"
    },
    {
     "data": {
      "image/png": "[encoded data removed]",
      "text/plain": [
       "<matplotlib.figure.Figure at 0x11a7b4690>"
      ]
     },
     "metadata": {},
     "output_type": "display_data"
    }
   ],
   "source": [
    "num_bins =50\n",
    "plt.figure(1)\n",
    "plt.figure(figsize=(10, 8))\n",
    "plt.xlabel(\"area\")\n",
    "plt.ylabel(\"frequency\")\n",
    "plt.hist(area,num_bins, normed= 1.0, facecolor=\"green\",alpha = 0.5)\n",
    "plt.show()"
   ]
  },
  {
   "cell_type": "code",
   "execution_count": 51,
   "metadata": {
    "collapsed": false
   },
   "outputs": [
    {
     "data": {
      "text/plain": [
       "157.07963267948966"
      ]
     },
     "execution_count": 51,
     "metadata": {},
     "output_type": "execute_result"
    }
   ],
   "source": [
    "2*math.pi*5**2"
   ]
  },
  {
   "cell_type": "code",
   "execution_count": 52,
   "metadata": {
    "collapsed": false
   },
   "outputs": [
    {
     "data": {
      "text/plain": [
       "549.14205240606145"
      ]
     },
     "execution_count": 52,
     "metadata": {},
     "output_type": "execute_result"
    }
   ],
   "source": [
    "max(area)"
   ]
  },
  {
   "cell_type": "markdown",
   "metadata": {},
   "source": [
    "----------------"
   ]
  },
  {
   "cell_type": "markdown",
   "metadata": {},
   "source": [
    "### Plot from data file"
   ]
  },
  {
   "cell_type": "code",
   "execution_count": 76,
   "metadata": {
    "collapsed": false
   },
   "outputs": [],
   "source": [
    "import pandas as pd"
   ]
  },
  {
   "cell_type": "code",
   "execution_count": 77,
   "metadata": {
    "collapsed": false
   },
   "outputs": [],
   "source": [
    "df = pd.read_csv('histogram.csv')"
   ]
  },
  {
   "cell_type": "code",
   "execution_count": 78,
   "metadata": {
    "collapsed": false
   },
   "outputs": [
    {
     "data": {
      "text/plain": [
       "(47, 3)"
      ]
     },
     "execution_count": 78,
     "metadata": {},
     "output_type": "execute_result"
    }
   ],
   "source": [
    "df.shape"
   ]
  },
  {
   "cell_type": "code",
   "execution_count": 79,
   "metadata": {
    "collapsed": false
   },
   "outputs": [
    {
     "data": {
      "text/html": [
       "<div>\n",
       "<table border=\"1\" class=\"dataframe\">\n",
       "  <thead>\n",
       "    <tr style=\"text-align: right;\">\n",
       "      <th></th>\n",
       "      <th>Currents (pA)</th>\n",
       "      <th>Radius (um)</th>\n",
       "      <th>Effective area(um^2)</th>\n",
       "    </tr>\n",
       "  </thead>\n",
       "  <tbody>\n",
       "    <tr>\n",
       "      <th>0</th>\n",
       "      <td>179.20</td>\n",
       "      <td>0.492660</td>\n",
       "      <td>1.525015</td>\n",
       "    </tr>\n",
       "    <tr>\n",
       "      <th>1</th>\n",
       "      <td>65.66</td>\n",
       "      <td>0.180514</td>\n",
       "      <td>0.204739</td>\n",
       "    </tr>\n",
       "    <tr>\n",
       "      <th>2</th>\n",
       "      <td>152.90</td>\n",
       "      <td>0.420355</td>\n",
       "      <td>1.110230</td>\n",
       "    </tr>\n",
       "    <tr>\n",
       "      <th>3</th>\n",
       "      <td>125.50</td>\n",
       "      <td>0.345027</td>\n",
       "      <td>0.747972</td>\n",
       "    </tr>\n",
       "    <tr>\n",
       "      <th>4</th>\n",
       "      <td>33.96</td>\n",
       "      <td>0.093363</td>\n",
       "      <td>0.054769</td>\n",
       "    </tr>\n",
       "    <tr>\n",
       "      <th>5</th>\n",
       "      <td>25.70</td>\n",
       "      <td>0.070655</td>\n",
       "      <td>0.031366</td>\n",
       "    </tr>\n",
       "    <tr>\n",
       "      <th>6</th>\n",
       "      <td>117.30</td>\n",
       "      <td>0.322483</td>\n",
       "      <td>0.653422</td>\n",
       "    </tr>\n",
       "    <tr>\n",
       "      <th>7</th>\n",
       "      <td>150.90</td>\n",
       "      <td>0.414857</td>\n",
       "      <td>1.081375</td>\n",
       "    </tr>\n",
       "    <tr>\n",
       "      <th>8</th>\n",
       "      <td>144.40</td>\n",
       "      <td>0.396987</td>\n",
       "      <td>0.990222</td>\n",
       "    </tr>\n",
       "    <tr>\n",
       "      <th>9</th>\n",
       "      <td>51.58</td>\n",
       "      <td>0.141805</td>\n",
       "      <td>0.126346</td>\n",
       "    </tr>\n",
       "    <tr>\n",
       "      <th>10</th>\n",
       "      <td>70.37</td>\n",
       "      <td>0.193462</td>\n",
       "      <td>0.235165</td>\n",
       "    </tr>\n",
       "    <tr>\n",
       "      <th>11</th>\n",
       "      <td>90.56</td>\n",
       "      <td>0.248969</td>\n",
       "      <td>0.389467</td>\n",
       "    </tr>\n",
       "    <tr>\n",
       "      <th>12</th>\n",
       "      <td>27.25</td>\n",
       "      <td>0.074916</td>\n",
       "      <td>0.035264</td>\n",
       "    </tr>\n",
       "    <tr>\n",
       "      <th>13</th>\n",
       "      <td>27.25</td>\n",
       "      <td>0.074916</td>\n",
       "      <td>0.035264</td>\n",
       "    </tr>\n",
       "    <tr>\n",
       "      <th>14</th>\n",
       "      <td>41.36</td>\n",
       "      <td>0.113708</td>\n",
       "      <td>0.081238</td>\n",
       "    </tr>\n",
       "    <tr>\n",
       "      <th>15</th>\n",
       "      <td>100.25</td>\n",
       "      <td>0.275609</td>\n",
       "      <td>0.477273</td>\n",
       "    </tr>\n",
       "    <tr>\n",
       "      <th>16</th>\n",
       "      <td>103.45</td>\n",
       "      <td>0.284407</td>\n",
       "      <td>0.508229</td>\n",
       "    </tr>\n",
       "    <tr>\n",
       "      <th>17</th>\n",
       "      <td>100.70</td>\n",
       "      <td>0.276846</td>\n",
       "      <td>0.481567</td>\n",
       "    </tr>\n",
       "    <tr>\n",
       "      <th>18</th>\n",
       "      <td>102.00</td>\n",
       "      <td>0.280420</td>\n",
       "      <td>0.494081</td>\n",
       "    </tr>\n",
       "    <tr>\n",
       "      <th>19</th>\n",
       "      <td>114.20</td>\n",
       "      <td>0.313961</td>\n",
       "      <td>0.619342</td>\n",
       "    </tr>\n",
       "    <tr>\n",
       "      <th>20</th>\n",
       "      <td>121.17</td>\n",
       "      <td>0.333123</td>\n",
       "      <td>0.697250</td>\n",
       "    </tr>\n",
       "    <tr>\n",
       "      <th>21</th>\n",
       "      <td>111.92</td>\n",
       "      <td>0.307692</td>\n",
       "      <td>0.594858</td>\n",
       "    </tr>\n",
       "    <tr>\n",
       "      <th>22</th>\n",
       "      <td>117.33</td>\n",
       "      <td>0.322566</td>\n",
       "      <td>0.653757</td>\n",
       "    </tr>\n",
       "    <tr>\n",
       "      <th>23</th>\n",
       "      <td>124.93</td>\n",
       "      <td>0.343460</td>\n",
       "      <td>0.741193</td>\n",
       "    </tr>\n",
       "    <tr>\n",
       "      <th>24</th>\n",
       "      <td>146.33</td>\n",
       "      <td>0.402293</td>\n",
       "      <td>1.016868</td>\n",
       "    </tr>\n",
       "    <tr>\n",
       "      <th>25</th>\n",
       "      <td>158.82</td>\n",
       "      <td>0.436631</td>\n",
       "      <td>1.197866</td>\n",
       "    </tr>\n",
       "    <tr>\n",
       "      <th>26</th>\n",
       "      <td>21.76</td>\n",
       "      <td>0.059823</td>\n",
       "      <td>0.022486</td>\n",
       "    </tr>\n",
       "    <tr>\n",
       "      <th>27</th>\n",
       "      <td>134.62</td>\n",
       "      <td>0.370100</td>\n",
       "      <td>0.860631</td>\n",
       "    </tr>\n",
       "    <tr>\n",
       "      <th>28</th>\n",
       "      <td>45.84</td>\n",
       "      <td>0.126024</td>\n",
       "      <td>0.099790</td>\n",
       "    </tr>\n",
       "    <tr>\n",
       "      <th>29</th>\n",
       "      <td>52.09</td>\n",
       "      <td>0.143207</td>\n",
       "      <td>0.128857</td>\n",
       "    </tr>\n",
       "    <tr>\n",
       "      <th>30</th>\n",
       "      <td>94.68</td>\n",
       "      <td>0.260296</td>\n",
       "      <td>0.425711</td>\n",
       "    </tr>\n",
       "    <tr>\n",
       "      <th>31</th>\n",
       "      <td>83.33</td>\n",
       "      <td>0.229092</td>\n",
       "      <td>0.329762</td>\n",
       "    </tr>\n",
       "    <tr>\n",
       "      <th>32</th>\n",
       "      <td>41.19</td>\n",
       "      <td>0.113240</td>\n",
       "      <td>0.080572</td>\n",
       "    </tr>\n",
       "    <tr>\n",
       "      <th>33</th>\n",
       "      <td>102.90</td>\n",
       "      <td>0.282894</td>\n",
       "      <td>0.502839</td>\n",
       "    </tr>\n",
       "    <tr>\n",
       "      <th>34</th>\n",
       "      <td>59.06</td>\n",
       "      <td>0.162369</td>\n",
       "      <td>0.165648</td>\n",
       "    </tr>\n",
       "    <tr>\n",
       "      <th>35</th>\n",
       "      <td>93.04</td>\n",
       "      <td>0.255787</td>\n",
       "      <td>0.411090</td>\n",
       "    </tr>\n",
       "    <tr>\n",
       "      <th>36</th>\n",
       "      <td>183.68</td>\n",
       "      <td>0.504976</td>\n",
       "      <td>1.602219</td>\n",
       "    </tr>\n",
       "    <tr>\n",
       "      <th>37</th>\n",
       "      <td>20.79</td>\n",
       "      <td>0.057156</td>\n",
       "      <td>0.020526</td>\n",
       "    </tr>\n",
       "    <tr>\n",
       "      <th>38</th>\n",
       "      <td>18.68</td>\n",
       "      <td>0.051355</td>\n",
       "      <td>0.016571</td>\n",
       "    </tr>\n",
       "    <tr>\n",
       "      <th>39</th>\n",
       "      <td>136.30</td>\n",
       "      <td>0.374718</td>\n",
       "      <td>0.882246</td>\n",
       "    </tr>\n",
       "    <tr>\n",
       "      <th>40</th>\n",
       "      <td>60.24</td>\n",
       "      <td>0.165613</td>\n",
       "      <td>0.172333</td>\n",
       "    </tr>\n",
       "    <tr>\n",
       "      <th>41</th>\n",
       "      <td>78.89</td>\n",
       "      <td>0.216886</td>\n",
       "      <td>0.295557</td>\n",
       "    </tr>\n",
       "    <tr>\n",
       "      <th>42</th>\n",
       "      <td>90.00</td>\n",
       "      <td>0.247430</td>\n",
       "      <td>0.384665</td>\n",
       "    </tr>\n",
       "    <tr>\n",
       "      <th>43</th>\n",
       "      <td>100.10</td>\n",
       "      <td>0.275197</td>\n",
       "      <td>0.475846</td>\n",
       "    </tr>\n",
       "    <tr>\n",
       "      <th>44</th>\n",
       "      <td>80.00</td>\n",
       "      <td>0.219937</td>\n",
       "      <td>0.303933</td>\n",
       "    </tr>\n",
       "    <tr>\n",
       "      <th>45</th>\n",
       "      <td>80.00</td>\n",
       "      <td>0.219937</td>\n",
       "      <td>0.303933</td>\n",
       "    </tr>\n",
       "    <tr>\n",
       "      <th>46</th>\n",
       "      <td>167.50</td>\n",
       "      <td>0.460494</td>\n",
       "      <td>1.332379</td>\n",
       "    </tr>\n",
       "  </tbody>\n",
       "</table>\n",
       "</div>"
      ],
      "text/plain": [
       "    Currents (pA)  Radius (um)  Effective area(um^2)\n",
       "0          179.20     0.492660              1.525015\n",
       "1           65.66     0.180514              0.204739\n",
       "2          152.90     0.420355              1.110230\n",
       "3          125.50     0.345027              0.747972\n",
       "4           33.96     0.093363              0.054769\n",
       "5           25.70     0.070655              0.031366\n",
       "6          117.30     0.322483              0.653422\n",
       "7          150.90     0.414857              1.081375\n",
       "8          144.40     0.396987              0.990222\n",
       "9           51.58     0.141805              0.126346\n",
       "10          70.37     0.193462              0.235165\n",
       "11          90.56     0.248969              0.389467\n",
       "12          27.25     0.074916              0.035264\n",
       "13          27.25     0.074916              0.035264\n",
       "14          41.36     0.113708              0.081238\n",
       "15         100.25     0.275609              0.477273\n",
       "16         103.45     0.284407              0.508229\n",
       "17         100.70     0.276846              0.481567\n",
       "18         102.00     0.280420              0.494081\n",
       "19         114.20     0.313961              0.619342\n",
       "20         121.17     0.333123              0.697250\n",
       "21         111.92     0.307692              0.594858\n",
       "22         117.33     0.322566              0.653757\n",
       "23         124.93     0.343460              0.741193\n",
       "24         146.33     0.402293              1.016868\n",
       "25         158.82     0.436631              1.197866\n",
       "26          21.76     0.059823              0.022486\n",
       "27         134.62     0.370100              0.860631\n",
       "28          45.84     0.126024              0.099790\n",
       "29          52.09     0.143207              0.128857\n",
       "30          94.68     0.260296              0.425711\n",
       "31          83.33     0.229092              0.329762\n",
       "32          41.19     0.113240              0.080572\n",
       "33         102.90     0.282894              0.502839\n",
       "34          59.06     0.162369              0.165648\n",
       "35          93.04     0.255787              0.411090\n",
       "36         183.68     0.504976              1.602219\n",
       "37          20.79     0.057156              0.020526\n",
       "38          18.68     0.051355              0.016571\n",
       "39         136.30     0.374718              0.882246\n",
       "40          60.24     0.165613              0.172333\n",
       "41          78.89     0.216886              0.295557\n",
       "42          90.00     0.247430              0.384665\n",
       "43         100.10     0.275197              0.475846\n",
       "44          80.00     0.219937              0.303933\n",
       "45          80.00     0.219937              0.303933\n",
       "46         167.50     0.460494              1.332379"
      ]
     },
     "execution_count": 79,
     "metadata": {},
     "output_type": "execute_result"
    }
   ],
   "source": [
    "df"
   ]
  },
  {
   "cell_type": "code",
   "execution_count": 80,
   "metadata": {
    "collapsed": true
   },
   "outputs": [],
   "source": [
    "df.columns = ['I','R','A']"
   ]
  },
  {
   "cell_type": "code",
   "execution_count": 81,
   "metadata": {
    "collapsed": false
   },
   "outputs": [
    {
     "data": {
      "text/html": [
       "<div>\n",
       "<table border=\"1\" class=\"dataframe\">\n",
       "  <thead>\n",
       "    <tr style=\"text-align: right;\">\n",
       "      <th></th>\n",
       "      <th>I</th>\n",
       "      <th>R</th>\n",
       "      <th>A</th>\n",
       "    </tr>\n",
       "  </thead>\n",
       "  <tbody>\n",
       "    <tr>\n",
       "      <th>0</th>\n",
       "      <td>179.20</td>\n",
       "      <td>0.492660</td>\n",
       "      <td>1.525015</td>\n",
       "    </tr>\n",
       "    <tr>\n",
       "      <th>1</th>\n",
       "      <td>65.66</td>\n",
       "      <td>0.180514</td>\n",
       "      <td>0.204739</td>\n",
       "    </tr>\n",
       "    <tr>\n",
       "      <th>2</th>\n",
       "      <td>152.90</td>\n",
       "      <td>0.420355</td>\n",
       "      <td>1.110230</td>\n",
       "    </tr>\n",
       "    <tr>\n",
       "      <th>3</th>\n",
       "      <td>125.50</td>\n",
       "      <td>0.345027</td>\n",
       "      <td>0.747972</td>\n",
       "    </tr>\n",
       "    <tr>\n",
       "      <th>4</th>\n",
       "      <td>33.96</td>\n",
       "      <td>0.093363</td>\n",
       "      <td>0.054769</td>\n",
       "    </tr>\n",
       "  </tbody>\n",
       "</table>\n",
       "</div>"
      ],
      "text/plain": [
       "        I         R         A\n",
       "0  179.20  0.492660  1.525015\n",
       "1   65.66  0.180514  0.204739\n",
       "2  152.90  0.420355  1.110230\n",
       "3  125.50  0.345027  0.747972\n",
       "4   33.96  0.093363  0.054769"
      ]
     },
     "execution_count": 81,
     "metadata": {},
     "output_type": "execute_result"
    }
   ],
   "source": [
    "df.head()"
   ]
  },
  {
   "cell_type": "markdown",
   "metadata": {},
   "source": [
    "#### Radius histogram"
   ]
  },
  {
   "cell_type": "code",
   "execution_count": 82,
   "metadata": {
    "collapsed": false
   },
   "outputs": [
    {
     "data": {
      "text/plain": [
       "<matplotlib.figure.Figure at 0x11b027d10>"
      ]
     },
     "metadata": {},
     "output_type": "display_data"
    },
    {
     "data": {
      "image/png": "[encoded data removed]",
      "text/plain": [
       "<matplotlib.figure.Figure at 0x11b550a90>"
      ]
     },
     "metadata": {},
     "output_type": "display_data"
    }
   ],
   "source": [
    "num_bins =20\n",
    "plt.figure(1)\n",
    "plt.figure(figsize=(10, 8))\n",
    "plt.xlabel(\"radius\")\n",
    "plt.ylabel(\"frequency\")\n",
    "plt.hist(df.R,num_bins, normed= 1.0, facecolor=\"green\",alpha = 0.5)\n",
    "plt.show()"
   ]
  },
  {
   "cell_type": "markdown",
   "metadata": {},
   "source": [
    "#### Area Histogram"
   ]
  },
  {
   "cell_type": "code",
   "execution_count": 83,
   "metadata": {
    "collapsed": false
   },
   "outputs": [
    {
     "data": {
      "text/plain": [
       "<matplotlib.figure.Figure at 0x11b0044d0>"
      ]
     },
     "metadata": {},
     "output_type": "display_data"
    },
    {
     "data": {
      "image/png": "[encoded data removed]",
      "text/plain": [
       "<matplotlib.figure.Figure at 0x11b5e42d0>"
      ]
     },
     "metadata": {},
     "output_type": "display_data"
    }
   ],
   "source": [
    "num_bins =20\n",
    "plt.figure(1)\n",
    "plt.figure(figsize=(10, 8))\n",
    "plt.xlabel(\"area\")\n",
    "plt.ylabel(\"frequency\")\n",
    "plt.hist(df.A,num_bins, normed= 1.0, facecolor=\"green\",alpha = 0.5)\n",
    "plt.show()"
   ]
  },
  {
   "cell_type": "markdown",
   "metadata": {},
   "source": [
    "## Conclusion Data is not enough to draw histogram!"
   ]
  },
  {
   "cell_type": "code",
   "execution_count": null,
   "metadata": {
    "collapsed": true
   },
   "outputs": [],
   "source": []
  }
 ],
 "metadata": {
  "kernelspec": {
   "display_name": "Python 2",
   "language": "python",
   "name": "python2"
  },
  "language_info": {
   "codemirror_mode": {
    "name": "ipython",
    "version": 2
   },
   "file_extension": ".py",
   "mimetype": "text/x-python",
   "name": "python",
   "nbconvert_exporter": "python",
   "pygments_lexer": "ipython2",
   "version": "2.7.11"
  }
 },
 "nbformat": 4,
 "nbformat_minor": 0
}
