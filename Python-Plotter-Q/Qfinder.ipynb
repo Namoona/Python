{
 "cells": [
  {
   "cell_type": "markdown",
   "metadata": {},
   "source": [
    "## Q - finder"
   ]
  },
  {
   "cell_type": "markdown",
   "metadata": {},
   "source": [
    "-----------"
   ]
  },
  {
   "cell_type": "code",
   "execution_count": 12,
   "metadata": {
    "collapsed": true
   },
   "outputs": [],
   "source": [
    "import matplotlib.pyplot as plt\n",
    "import pandas as pd\n",
    "import numpy as np\n",
    "import re\n",
    "import math as math\n",
    "import pprint as pp\n",
    "%matplotlib inline"
   ]
  },
  {
   "cell_type": "code",
   "execution_count": 13,
   "metadata": {
    "collapsed": true
   },
   "outputs": [],
   "source": [
    "def subplotter(a,b,c,xlab,ylab,title,x,y):\n",
    "    plt.subplot(a,b,c)\n",
    "    plt.grid()\n",
    "    plt.title(title)\n",
    "    plt.xlabel(xlab)\n",
    "    plt.ylabel(ylab)\n",
    "    plt.scatter(x,y)\n",
    "    return\n"
   ]
  },
  {
   "cell_type": "code",
   "execution_count": 14,
   "metadata": {
    "collapsed": true
   },
   "outputs": [],
   "source": [
    "def allplotter(df):\n",
    "    plt.figure(1)\n",
    "    plt.figure(figsize=(12, 12))\n",
    "    subplotter(2,2,1,xlab ='z',ylab = 'E',title = 'z vs E',x = df['z'],y = df['E'])\n",
    "    subplotter(2,2,2,xlab ='r',ylab = 'E',title = 'r vs E',x = df['r'],y = df['E'])\n",
    "    subplotter(2,2,3,xlab ='r',ylab = 'z',title = 'r vs z',x = df['r'],y = df['z'])\n",
    "    subplotter(2,2,4,xlab ='r',ylab = 'ang',title = 'r vs ang',x = df['r'],y = df['ang'])\n",
    "    plt.show()\n",
    "    return"
   ]
  },
  {
   "cell_type": "code",
   "execution_count": 36,
   "metadata": {
    "collapsed": false
   },
   "outputs": [],
   "source": [
    "def Qfinder(df,nangles,verbose,plotter): \n",
    "    \n",
    "    df.columns = ['r','z','E']\n",
    "    df['z'] = df['z'].apply(lambda x: 1.00-x)\n",
    "    df['r_by_z'] = (df['r']/(df['z']))\n",
    "    df['ang'] = df['r_by_z'].apply(lambda x: math.atan(x)*(180/math.pi))\n",
    "    \n",
    "    if plotter: \n",
    "        allplotter(df)\n",
    "    \n",
    "    if verbose: \n",
    "        print \"shape of file = \", df.shape\n",
    "\n",
    "\n",
    "\n",
    "    ntheta = np.linspace(-90,90,nangles+1) \n",
    "    if verbose: \n",
    "        print\"===============================================================================\" \n",
    "        print \"ntheta = \", ntheta\n",
    "    \n",
    "    \n",
    "    \n",
    "    E_mean = []\n",
    "    for k in range(nangles):\n",
    "        df1 = df[(df['ang'] >  ntheta[k])]\n",
    "        df1 = df1[(df1['ang'] < ntheta[k+1])]\n",
    "        df1 = df1.dropna(subset=['ang'])\n",
    "        E_mean.append(df1['E'].mean())\n",
    "        \n",
    "    if verbose:     \n",
    "        print\"===============================================================================\"        \n",
    "        print \"E_mean = \"\n",
    "        pp.pprint(E_mean)\n",
    "\n",
    "\n",
    "\n",
    "\n",
    "    Q = 0.0\n",
    "    for k in range(nangles):\n",
    "        Q = Q + 2.0*math.pi*(20e-9)**2*(80)*8.85e-12*E_mean[k]*\\\n",
    "                (math.cos((ntheta[k+1]/180)*math.pi) - math.cos((ntheta[k]/180)*math.pi))\n",
    "            \n",
    "    if verbose:         \n",
    "        print\"===============================================================================\"\n",
    "        print \"Q found = \",Q\n",
    "\n",
    "\n",
    "    return Q"
   ]
  },
  {
   "cell_type": "code",
   "execution_count": 37,
   "metadata": {
    "collapsed": false
   },
   "outputs": [],
   "source": [
    "def Runner(data_file,nangles):\n",
    "    df1 = pd.read_csv(data_file)\n",
    "    \n",
    "    print \"======================\",\"RESULT OF\", data_file,\"====================================\"\n",
    "        \n",
    "    Q1 = Qfinder(df1,nangles,verbose = True,plotter=True)"
   ]
  },
  {
   "cell_type": "markdown",
   "metadata": {},
   "source": [
    "--------------"
   ]
  },
  {
   "cell_type": "markdown",
   "metadata": {},
   "source": [
    "---------"
   ]
  },
  {
   "cell_type": "markdown",
   "metadata": {},
   "source": [
    "### Work bench"
   ]
  },
  {
   "cell_type": "markdown",
   "metadata": {},
   "source": [
    "----------"
   ]
  },
  {
   "cell_type": "markdown",
   "metadata": {},
   "source": [
    "------"
   ]
  },
  {
   "cell_type": "markdown",
   "metadata": {},
   "source": [
    "#### Please enter the file names"
   ]
  },
  {
   "cell_type": "code",
   "execution_count": 45,
   "metadata": {
    "collapsed": false
   },
   "outputs": [
    {
     "name": "stdout",
     "output_type": "stream",
     "text": [
      "total 5608\r\n",
      "-rw-r--r--@ 1 dibakarsigdel  staff    22392 Sep 23 18:45 Dt-100nm below.csv\r\n",
      "-rw-r--r--@ 1 dibakarsigdel  staff    23165 Sep 23 18:46 Dt-150nm below.csv\r\n",
      "-rw-r--r--@ 1 dibakarsigdel  staff    23618 Sep 23 18:47 Dt-200nm below.csv\r\n",
      "-rw-r--r--@ 1 dibakarsigdel  staff    21676 Sep 23 18:43 Dt-20nm below.csv\r\n",
      "-rw-r--r--@ 1 dibakarsigdel  staff    21787 Sep 23 18:44 Dt-40nm below.csv\r\n",
      "-rw-r--r--@ 1 dibakarsigdel  staff    28059 Sep 23 18:47 Dt-500nm below.csv\r\n",
      "-rw-r--r--@ 1 dibakarsigdel  staff    22150 Sep 23 18:44 Dt-60nm below.csv\r\n",
      "-rw-r--r--@ 1 dibakarsigdel  staff    28059 Sep 22 12:15 Dt-800nm below.csv\r\n",
      "-rw-r--r--@ 1 dibakarsigdel  staff  2336917 Sep 23 14:42 Plotter-I.ipynb\r\n",
      "-rw-r--r--@ 1 dibakarsigdel  staff    86483 Sep 23 18:28 Qfinder.ipynb\r\n",
      "-rw-r--r--@ 1 dibakarsigdel  staff    28048 Sep 22 12:21 center.csv\r\n",
      "-rw-r--r--@ 1 dibakarsigdel  staff   205286 Sep 23 18:16 electric_field.ipynb\r\n"
     ]
    }
   ],
   "source": [
    "ls -l"
   ]
  },
  {
   "cell_type": "code",
   "execution_count": 47,
   "metadata": {
    "collapsed": false
   },
   "outputs": [],
   "source": [
    "file1 = 'center.csv'\n",
    "file2 = 'Dt-20nm below.csv'\n",
    "file3 = 'Dt-40nm below.csv'\n",
    "file4 = 'Dt-60nm below.csv'\n",
    "file5 = 'Dt-100nm below.csv'\n",
    "file6 = 'Dt-150nm below.csv'\n",
    "file7 = 'Dt-200nm below.csv'\n",
    "file8 = 'Dt-500nm below.csv'\n",
    "file9 = 'Dt-800nm below.csv'"
   ]
  },
  {
   "cell_type": "markdown",
   "metadata": {},
   "source": [
    "#### Please enter the angle division no"
   ]
  },
  {
   "cell_type": "code",
   "execution_count": 51,
   "metadata": {
    "collapsed": false
   },
   "outputs": [],
   "source": [
    "nangles = 10"
   ]
  },
  {
   "cell_type": "markdown",
   "metadata": {},
   "source": [
    "--------"
   ]
  },
  {
   "cell_type": "markdown",
   "metadata": {},
   "source": [
    "### Run"
   ]
  },
  {
   "cell_type": "code",
   "execution_count": 56,
   "metadata": {
    "collapsed": false
   },
   "outputs": [
    {
     "name": "stdout",
     "output_type": "stream",
     "text": [
      "====================== RESULT OF Dt-20nm below.csv ====================================\n"
     ]
    },
    {
     "data": {
      "text/plain": [
       "<matplotlib.figure.Figure at 0x11a636a50>"
      ]
     },
     "metadata": {},
     "output_type": "display_data"
    },
    {
     "data": {
      "image/png": "[encoded data removed]",
      "text/plain": [
       "<matplotlib.figure.Figure at 0x1195b5a90>"
      ]
     },
     "metadata": {},
     "output_type": "display_data"
    },
    {
     "name": "stdout",
     "output_type": "stream",
     "text": [
      "shape of file =  (728, 5)\n",
      "===============================================================================\n",
      "ntheta =  [-90. -72. -54. -36. -18.   0.  18.  36.  54.  72.  90.]\n",
      "===============================================================================\n",
      "E_mean = \n",
      "[nan,\n",
      " nan,\n",
      " nan,\n",
      " nan,\n",
      " nan,\n",
      " 774.9944975848862,\n",
      " 6208.613197452633,\n",
      " 19747.82578,\n",
      " 49129.21604,\n",
      " nan]\n",
      "===============================================================================\n",
      "Q found =  nan\n"
     ]
    }
   ],
   "source": [
    "Runner(file2,nangles)\n",
    "#Runner(file1,nangles)"
   ]
  },
  {
   "cell_type": "code",
   "execution_count": null,
   "metadata": {
    "collapsed": true
   },
   "outputs": [],
   "source": []
  },
  {
   "cell_type": "code",
   "execution_count": null,
   "metadata": {
    "collapsed": true
   },
   "outputs": [],
   "source": []
  },
  {
   "cell_type": "code",
   "execution_count": null,
   "metadata": {
    "collapsed": true
   },
   "outputs": [],
   "source": []
  },
  {
   "cell_type": "code",
   "execution_count": null,
   "metadata": {
    "collapsed": true
   },
   "outputs": [],
   "source": []
  }
 ],
 "metadata": {
  "kernelspec": {
   "display_name": "Python 2",
   "language": "python",
   "name": "python2"
  },
  "language_info": {
   "codemirror_mode": {
    "name": "ipython",
    "version": 2
   },
   "file_extension": ".py",
   "mimetype": "text/x-python",
   "name": "python",
   "nbconvert_exporter": "python",
   "pygments_lexer": "ipython2",
   "version": "2.7.11"
  }
 },
 "nbformat": 4,
 "nbformat_minor": 0
}
