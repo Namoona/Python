{
 "cells": [
  {
   "cell_type": "markdown",
   "metadata": {},
   "source": [
    "### Calculation of Electric field"
   ]
  },
  {
   "cell_type": "code",
   "execution_count": 1,
   "metadata": {
    "collapsed": true
   },
   "outputs": [],
   "source": [
    "import matplotlib.pyplot as plt\n",
    "import pandas as pd\n",
    "import numpy as np\n",
    "import re\n",
    "import math as math"
   ]
  },
  {
   "cell_type": "code",
   "execution_count": 2,
   "metadata": {
    "collapsed": false
   },
   "outputs": [],
   "source": [
    "df = pd.read_csv('center.csv')"
   ]
  },
  {
   "cell_type": "code",
   "execution_count": 3,
   "metadata": {
    "collapsed": false
   },
   "outputs": [
    {
     "data": {
      "text/plain": [
       "(860, 3)"
      ]
     },
     "execution_count": 3,
     "metadata": {},
     "output_type": "execute_result"
    }
   ],
   "source": [
    "df.shape"
   ]
  },
  {
   "cell_type": "code",
   "execution_count": 4,
   "metadata": {
    "collapsed": false
   },
   "outputs": [
    {
     "data": {
      "text/html": [
       "<div>\n",
       "<table border=\"1\" class=\"dataframe\">\n",
       "  <thead>\n",
       "    <tr style=\"text-align: right;\">\n",
       "      <th></th>\n",
       "      <th>0</th>\n",
       "      <th>0.98</th>\n",
       "      <th>1.57E+07</th>\n",
       "    </tr>\n",
       "  </thead>\n",
       "  <tbody>\n",
       "    <tr>\n",
       "      <th>0</th>\n",
       "      <td>0.000999</td>\n",
       "      <td>0.980029</td>\n",
       "      <td>15800000.0</td>\n",
       "    </tr>\n",
       "    <tr>\n",
       "      <th>1</th>\n",
       "      <td>0.001991</td>\n",
       "      <td>0.980106</td>\n",
       "      <td>15800000.0</td>\n",
       "    </tr>\n",
       "    <tr>\n",
       "      <th>2</th>\n",
       "      <td>0.002966</td>\n",
       "      <td>0.980230</td>\n",
       "      <td>15700000.0</td>\n",
       "    </tr>\n",
       "    <tr>\n",
       "      <th>3</th>\n",
       "      <td>0.003917</td>\n",
       "      <td>0.980396</td>\n",
       "      <td>15700000.0</td>\n",
       "    </tr>\n",
       "    <tr>\n",
       "      <th>4</th>\n",
       "      <td>0.004837</td>\n",
       "      <td>0.980597</td>\n",
       "      <td>15700000.0</td>\n",
       "    </tr>\n",
       "  </tbody>\n",
       "</table>\n",
       "</div>"
      ],
      "text/plain": [
       "          0      0.98    1.57E+07\n",
       "0  0.000999  0.980029  15800000.0\n",
       "1  0.001991  0.980106  15800000.0\n",
       "2  0.002966  0.980230  15700000.0\n",
       "3  0.003917  0.980396  15700000.0\n",
       "4  0.004837  0.980597  15700000.0"
      ]
     },
     "execution_count": 4,
     "metadata": {},
     "output_type": "execute_result"
    }
   ],
   "source": [
    "df.head(5)"
   ]
  },
  {
   "cell_type": "code",
   "execution_count": 5,
   "metadata": {
    "collapsed": true
   },
   "outputs": [],
   "source": [
    "df.columns = ['r','z','E']"
   ]
  },
  {
   "cell_type": "code",
   "execution_count": 6,
   "metadata": {
    "collapsed": false
   },
   "outputs": [],
   "source": [
    "df['z'] = df['z'].apply(lambda x: 1.00-x)"
   ]
  },
  {
   "cell_type": "code",
   "execution_count": 7,
   "metadata": {
    "collapsed": false
   },
   "outputs": [],
   "source": [
    "df['r_by_z'] = (df['r']/(df['z']))"
   ]
  },
  {
   "cell_type": "code",
   "execution_count": 8,
   "metadata": {
    "collapsed": false
   },
   "outputs": [
    {
     "data": {
      "text/html": [
       "<div>\n",
       "<table border=\"1\" class=\"dataframe\">\n",
       "  <thead>\n",
       "    <tr style=\"text-align: right;\">\n",
       "      <th></th>\n",
       "      <th>r</th>\n",
       "      <th>z</th>\n",
       "      <th>E</th>\n",
       "      <th>r_by_z</th>\n",
       "    </tr>\n",
       "  </thead>\n",
       "  <tbody>\n",
       "    <tr>\n",
       "      <th>0</th>\n",
       "      <td>0.000999</td>\n",
       "      <td>0.019971</td>\n",
       "      <td>15800000.0</td>\n",
       "      <td>0.050022</td>\n",
       "    </tr>\n",
       "    <tr>\n",
       "      <th>1</th>\n",
       "      <td>0.001991</td>\n",
       "      <td>0.019894</td>\n",
       "      <td>15800000.0</td>\n",
       "      <td>0.100068</td>\n",
       "    </tr>\n",
       "    <tr>\n",
       "      <th>2</th>\n",
       "      <td>0.002966</td>\n",
       "      <td>0.019770</td>\n",
       "      <td>15700000.0</td>\n",
       "      <td>0.150027</td>\n",
       "    </tr>\n",
       "    <tr>\n",
       "      <th>3</th>\n",
       "      <td>0.003917</td>\n",
       "      <td>0.019604</td>\n",
       "      <td>15700000.0</td>\n",
       "      <td>0.199790</td>\n",
       "    </tr>\n",
       "    <tr>\n",
       "      <th>4</th>\n",
       "      <td>0.004837</td>\n",
       "      <td>0.019403</td>\n",
       "      <td>15700000.0</td>\n",
       "      <td>0.249270</td>\n",
       "    </tr>\n",
       "  </tbody>\n",
       "</table>\n",
       "</div>"
      ],
      "text/plain": [
       "          r         z           E    r_by_z\n",
       "0  0.000999  0.019971  15800000.0  0.050022\n",
       "1  0.001991  0.019894  15800000.0  0.100068\n",
       "2  0.002966  0.019770  15700000.0  0.150027\n",
       "3  0.003917  0.019604  15700000.0  0.199790\n",
       "4  0.004837  0.019403  15700000.0  0.249270"
      ]
     },
     "execution_count": 8,
     "metadata": {},
     "output_type": "execute_result"
    }
   ],
   "source": [
    "df.head(5)"
   ]
  },
  {
   "cell_type": "code",
   "execution_count": 9,
   "metadata": {
    "collapsed": false
   },
   "outputs": [],
   "source": [
    "df['ang'] = df['r_by_z'].apply(lambda x: math.atan(x)*(180/math.pi))"
   ]
  },
  {
   "cell_type": "code",
   "execution_count": 10,
   "metadata": {
    "collapsed": false
   },
   "outputs": [],
   "source": [
    "df['ang'] = df['ang'].sort_values()"
   ]
  },
  {
   "cell_type": "code",
   "execution_count": 14,
   "metadata": {
    "collapsed": false
   },
   "outputs": [
    {
     "data": {
      "text/html": [
       "<div>\n",
       "<table border=\"1\" class=\"dataframe\">\n",
       "  <thead>\n",
       "    <tr style=\"text-align: right;\">\n",
       "      <th></th>\n",
       "      <th>r</th>\n",
       "      <th>z</th>\n",
       "      <th>E</th>\n",
       "      <th>r_by_z</th>\n",
       "      <th>ang</th>\n",
       "    </tr>\n",
       "  </thead>\n",
       "  <tbody>\n",
       "    <tr>\n",
       "      <th>0</th>\n",
       "      <td>0.000999</td>\n",
       "      <td>0.019971</td>\n",
       "      <td>15800000.0</td>\n",
       "      <td>0.050022</td>\n",
       "      <td>2.863665</td>\n",
       "    </tr>\n",
       "    <tr>\n",
       "      <th>1</th>\n",
       "      <td>0.001991</td>\n",
       "      <td>0.019894</td>\n",
       "      <td>15800000.0</td>\n",
       "      <td>0.100068</td>\n",
       "      <td>5.714442</td>\n",
       "    </tr>\n",
       "    <tr>\n",
       "      <th>2</th>\n",
       "      <td>0.002966</td>\n",
       "      <td>0.019770</td>\n",
       "      <td>15700000.0</td>\n",
       "      <td>0.150027</td>\n",
       "      <td>8.532268</td>\n",
       "    </tr>\n",
       "    <tr>\n",
       "      <th>3</th>\n",
       "      <td>0.003917</td>\n",
       "      <td>0.019604</td>\n",
       "      <td>15700000.0</td>\n",
       "      <td>0.199790</td>\n",
       "      <td>11.298362</td>\n",
       "    </tr>\n",
       "    <tr>\n",
       "      <th>4</th>\n",
       "      <td>0.004837</td>\n",
       "      <td>0.019403</td>\n",
       "      <td>15700000.0</td>\n",
       "      <td>0.249270</td>\n",
       "      <td>13.996864</td>\n",
       "    </tr>\n",
       "    <tr>\n",
       "      <th>5</th>\n",
       "      <td>0.005767</td>\n",
       "      <td>0.019148</td>\n",
       "      <td>15600000.0</td>\n",
       "      <td>0.301168</td>\n",
       "      <td>16.760640</td>\n",
       "    </tr>\n",
       "    <tr>\n",
       "      <th>6</th>\n",
       "      <td>0.006617</td>\n",
       "      <td>0.018866</td>\n",
       "      <td>15600000.0</td>\n",
       "      <td>0.350723</td>\n",
       "      <td>19.326950</td>\n",
       "    </tr>\n",
       "    <tr>\n",
       "      <th>7</th>\n",
       "      <td>0.007417</td>\n",
       "      <td>0.018564</td>\n",
       "      <td>15700000.0</td>\n",
       "      <td>0.399554</td>\n",
       "      <td>21.779380</td>\n",
       "    </tr>\n",
       "    <tr>\n",
       "      <th>8</th>\n",
       "      <td>0.008166</td>\n",
       "      <td>0.018254</td>\n",
       "      <td>15700000.0</td>\n",
       "      <td>0.447339</td>\n",
       "      <td>24.100839</td>\n",
       "    </tr>\n",
       "    <tr>\n",
       "      <th>9</th>\n",
       "      <td>0.008980</td>\n",
       "      <td>0.017865</td>\n",
       "      <td>15600000.0</td>\n",
       "      <td>0.502651</td>\n",
       "      <td>26.686440</td>\n",
       "    </tr>\n",
       "    <tr>\n",
       "      <th>10</th>\n",
       "      <td>0.009631</td>\n",
       "      <td>0.017519</td>\n",
       "      <td>15700000.0</td>\n",
       "      <td>0.549712</td>\n",
       "      <td>28.798103</td>\n",
       "    </tr>\n",
       "    <tr>\n",
       "      <th>11</th>\n",
       "      <td>0.010229</td>\n",
       "      <td>0.017184</td>\n",
       "      <td>15800000.0</td>\n",
       "      <td>0.595282</td>\n",
       "      <td>30.764559</td>\n",
       "    </tr>\n",
       "    <tr>\n",
       "      <th>12</th>\n",
       "      <td>0.010946</td>\n",
       "      <td>0.016733</td>\n",
       "      <td>15700000.0</td>\n",
       "      <td>0.654141</td>\n",
       "      <td>33.190360</td>\n",
       "    </tr>\n",
       "    <tr>\n",
       "      <th>13</th>\n",
       "      <td>0.011437</td>\n",
       "      <td>0.016399</td>\n",
       "      <td>15800000.0</td>\n",
       "      <td>0.697410</td>\n",
       "      <td>34.892289</td>\n",
       "    </tr>\n",
       "    <tr>\n",
       "      <th>14</th>\n",
       "      <td>0.012061</td>\n",
       "      <td>0.015954</td>\n",
       "      <td>15900000.0</td>\n",
       "      <td>0.755982</td>\n",
       "      <td>37.088608</td>\n",
       "    </tr>\n",
       "    <tr>\n",
       "      <th>15</th>\n",
       "      <td>0.012483</td>\n",
       "      <td>0.015616</td>\n",
       "      <td>15800000.0</td>\n",
       "      <td>0.799349</td>\n",
       "      <td>38.637064</td>\n",
       "    </tr>\n",
       "    <tr>\n",
       "      <th>16</th>\n",
       "      <td>0.012960</td>\n",
       "      <td>0.015232</td>\n",
       "      <td>15900000.0</td>\n",
       "      <td>0.850850</td>\n",
       "      <td>40.392804</td>\n",
       "    </tr>\n",
       "    <tr>\n",
       "      <th>17</th>\n",
       "      <td>0.013389</td>\n",
       "      <td>0.014849</td>\n",
       "      <td>15900000.0</td>\n",
       "      <td>0.901657</td>\n",
       "      <td>42.039621</td>\n",
       "    </tr>\n",
       "    <tr>\n",
       "      <th>18</th>\n",
       "      <td>0.013711</td>\n",
       "      <td>0.014561</td>\n",
       "      <td>15900000.0</td>\n",
       "      <td>0.941644</td>\n",
       "      <td>43.278492</td>\n",
       "    </tr>\n",
       "    <tr>\n",
       "      <th>19</th>\n",
       "      <td>0.014166</td>\n",
       "      <td>0.014110</td>\n",
       "      <td>15900000.0</td>\n",
       "      <td>1.004026</td>\n",
       "      <td>45.115090</td>\n",
       "    </tr>\n",
       "    <tr>\n",
       "      <th>20</th>\n",
       "      <td>0.000029</td>\n",
       "      <td>0.019999</td>\n",
       "      <td>15800000.0</td>\n",
       "      <td>0.001440</td>\n",
       "      <td>0.082509</td>\n",
       "    </tr>\n",
       "    <tr>\n",
       "      <th>21</th>\n",
       "      <td>0.001028</td>\n",
       "      <td>0.019970</td>\n",
       "      <td>15800000.0</td>\n",
       "      <td>0.051475</td>\n",
       "      <td>2.946689</td>\n",
       "    </tr>\n",
       "    <tr>\n",
       "      <th>22</th>\n",
       "      <td>0.002077</td>\n",
       "      <td>0.019886</td>\n",
       "      <td>15800000.0</td>\n",
       "      <td>0.104464</td>\n",
       "      <td>5.963694</td>\n",
       "    </tr>\n",
       "    <tr>\n",
       "      <th>23</th>\n",
       "      <td>0.003111</td>\n",
       "      <td>0.019748</td>\n",
       "      <td>15700000.0</td>\n",
       "      <td>0.157508</td>\n",
       "      <td>8.951026</td>\n",
       "    </tr>\n",
       "    <tr>\n",
       "      <th>24</th>\n",
       "      <td>0.004118</td>\n",
       "      <td>0.019562</td>\n",
       "      <td>15700000.0</td>\n",
       "      <td>0.210523</td>\n",
       "      <td>11.888461</td>\n",
       "    </tr>\n",
       "    <tr>\n",
       "      <th>25</th>\n",
       "      <td>0.005091</td>\n",
       "      <td>0.019333</td>\n",
       "      <td>15600000.0</td>\n",
       "      <td>0.263340</td>\n",
       "      <td>14.753329</td>\n",
       "    </tr>\n",
       "    <tr>\n",
       "      <th>26</th>\n",
       "      <td>0.006023</td>\n",
       "      <td>0.019067</td>\n",
       "      <td>15700000.0</td>\n",
       "      <td>0.315867</td>\n",
       "      <td>17.529610</td>\n",
       "    </tr>\n",
       "    <tr>\n",
       "      <th>27</th>\n",
       "      <td>0.006920</td>\n",
       "      <td>0.018763</td>\n",
       "      <td>15600000.0</td>\n",
       "      <td>0.368805</td>\n",
       "      <td>20.244232</td>\n",
       "    </tr>\n",
       "    <tr>\n",
       "      <th>28</th>\n",
       "      <td>0.007766</td>\n",
       "      <td>0.018423</td>\n",
       "      <td>15600000.0</td>\n",
       "      <td>0.421531</td>\n",
       "      <td>22.856952</td>\n",
       "    </tr>\n",
       "    <tr>\n",
       "      <th>29</th>\n",
       "      <td>0.008555</td>\n",
       "      <td>0.018068</td>\n",
       "      <td>15700000.0</td>\n",
       "      <td>0.473471</td>\n",
       "      <td>25.336200</td>\n",
       "    </tr>\n",
       "    <tr>\n",
       "      <th>...</th>\n",
       "      <td>...</td>\n",
       "      <td>...</td>\n",
       "      <td>...</td>\n",
       "      <td>...</td>\n",
       "      <td>...</td>\n",
       "    </tr>\n",
       "    <tr>\n",
       "      <th>70</th>\n",
       "      <td>0.008519</td>\n",
       "      <td>0.018085</td>\n",
       "      <td>15700000.0</td>\n",
       "      <td>0.471022</td>\n",
       "      <td>25.221468</td>\n",
       "    </tr>\n",
       "    <tr>\n",
       "      <th>71</th>\n",
       "      <td>0.009367</td>\n",
       "      <td>0.017665</td>\n",
       "      <td>15700000.0</td>\n",
       "      <td>0.530263</td>\n",
       "      <td>27.935372</td>\n",
       "    </tr>\n",
       "    <tr>\n",
       "      <th>72</th>\n",
       "      <td>0.010134</td>\n",
       "      <td>0.017242</td>\n",
       "      <td>15700000.0</td>\n",
       "      <td>0.587728</td>\n",
       "      <td>30.443928</td>\n",
       "    </tr>\n",
       "    <tr>\n",
       "      <th>73</th>\n",
       "      <td>0.010864</td>\n",
       "      <td>0.016784</td>\n",
       "      <td>15700000.0</td>\n",
       "      <td>0.647294</td>\n",
       "      <td>32.914728</td>\n",
       "    </tr>\n",
       "    <tr>\n",
       "      <th>74</th>\n",
       "      <td>0.011526</td>\n",
       "      <td>0.016335</td>\n",
       "      <td>15800000.0</td>\n",
       "      <td>0.705642</td>\n",
       "      <td>35.208381</td>\n",
       "    </tr>\n",
       "    <tr>\n",
       "      <th>75</th>\n",
       "      <td>0.012122</td>\n",
       "      <td>0.015905</td>\n",
       "      <td>15900000.0</td>\n",
       "      <td>0.762117</td>\n",
       "      <td>37.311652</td>\n",
       "    </tr>\n",
       "    <tr>\n",
       "      <th>76</th>\n",
       "      <td>0.012730</td>\n",
       "      <td>0.015417</td>\n",
       "      <td>15800000.0</td>\n",
       "      <td>0.825707</td>\n",
       "      <td>39.546727</td>\n",
       "    </tr>\n",
       "    <tr>\n",
       "      <th>77</th>\n",
       "      <td>0.013214</td>\n",
       "      <td>0.015005</td>\n",
       "      <td>15900000.0</td>\n",
       "      <td>0.880642</td>\n",
       "      <td>41.368501</td>\n",
       "    </tr>\n",
       "    <tr>\n",
       "      <th>78</th>\n",
       "      <td>0.013711</td>\n",
       "      <td>0.014561</td>\n",
       "      <td>15900000.0</td>\n",
       "      <td>0.941644</td>\n",
       "      <td>43.278492</td>\n",
       "    </tr>\n",
       "    <tr>\n",
       "      <th>79</th>\n",
       "      <td>0.014152</td>\n",
       "      <td>0.014124</td>\n",
       "      <td>15900000.0</td>\n",
       "      <td>1.001963</td>\n",
       "      <td>45.056194</td>\n",
       "    </tr>\n",
       "    <tr>\n",
       "      <th>80</th>\n",
       "      <td>0.014483</td>\n",
       "      <td>0.013790</td>\n",
       "      <td>16000000.0</td>\n",
       "      <td>1.050284</td>\n",
       "      <td>46.404917</td>\n",
       "    </tr>\n",
       "    <tr>\n",
       "      <th>81</th>\n",
       "      <td>0.014938</td>\n",
       "      <td>0.013292</td>\n",
       "      <td>15900000.0</td>\n",
       "      <td>1.123824</td>\n",
       "      <td>48.336693</td>\n",
       "    </tr>\n",
       "    <tr>\n",
       "      <th>82</th>\n",
       "      <td>0.015176</td>\n",
       "      <td>0.013023</td>\n",
       "      <td>16000000.0</td>\n",
       "      <td>1.165371</td>\n",
       "      <td>49.367244</td>\n",
       "    </tr>\n",
       "    <tr>\n",
       "      <th>83</th>\n",
       "      <td>0.000115</td>\n",
       "      <td>0.019997</td>\n",
       "      <td>15800000.0</td>\n",
       "      <td>0.005751</td>\n",
       "      <td>0.329502</td>\n",
       "    </tr>\n",
       "    <tr>\n",
       "      <th>84</th>\n",
       "      <td>0.001345</td>\n",
       "      <td>0.019950</td>\n",
       "      <td>15800000.0</td>\n",
       "      <td>0.067414</td>\n",
       "      <td>3.856688</td>\n",
       "    </tr>\n",
       "    <tr>\n",
       "      <th>85</th>\n",
       "      <td>0.002566</td>\n",
       "      <td>0.019829</td>\n",
       "      <td>15800000.0</td>\n",
       "      <td>0.129383</td>\n",
       "      <td>7.372154</td>\n",
       "    </tr>\n",
       "    <tr>\n",
       "      <th>86</th>\n",
       "      <td>0.003765</td>\n",
       "      <td>0.019636</td>\n",
       "      <td>15700000.0</td>\n",
       "      <td>0.191741</td>\n",
       "      <td>10.854193</td>\n",
       "    </tr>\n",
       "    <tr>\n",
       "      <th>87</th>\n",
       "      <td>0.004925</td>\n",
       "      <td>0.019379</td>\n",
       "      <td>15700000.0</td>\n",
       "      <td>0.254138</td>\n",
       "      <td>14.259143</td>\n",
       "    </tr>\n",
       "    <tr>\n",
       "      <th>88</th>\n",
       "      <td>0.006035</td>\n",
       "      <td>0.019062</td>\n",
       "      <td>15700000.0</td>\n",
       "      <td>0.316592</td>\n",
       "      <td>17.567364</td>\n",
       "    </tr>\n",
       "    <tr>\n",
       "      <th>89</th>\n",
       "      <td>0.007094</td>\n",
       "      <td>0.018696</td>\n",
       "      <td>15700000.0</td>\n",
       "      <td>0.379436</td>\n",
       "      <td>20.778555</td>\n",
       "    </tr>\n",
       "    <tr>\n",
       "      <th>90</th>\n",
       "      <td>0.007952</td>\n",
       "      <td>0.018347</td>\n",
       "      <td>15600000.0</td>\n",
       "      <td>0.433440</td>\n",
       "      <td>23.433849</td>\n",
       "    </tr>\n",
       "    <tr>\n",
       "      <th>91</th>\n",
       "      <td>0.008908</td>\n",
       "      <td>0.017899</td>\n",
       "      <td>15600000.0</td>\n",
       "      <td>0.497646</td>\n",
       "      <td>26.457050</td>\n",
       "    </tr>\n",
       "    <tr>\n",
       "      <th>92</th>\n",
       "      <td>0.009790</td>\n",
       "      <td>0.017431</td>\n",
       "      <td>15700000.0</td>\n",
       "      <td>0.561641</td>\n",
       "      <td>29.320347</td>\n",
       "    </tr>\n",
       "    <tr>\n",
       "      <th>93</th>\n",
       "      <td>0.010598</td>\n",
       "      <td>0.016951</td>\n",
       "      <td>15800000.0</td>\n",
       "      <td>0.625213</td>\n",
       "      <td>32.014143</td>\n",
       "    </tr>\n",
       "    <tr>\n",
       "      <th>94</th>\n",
       "      <td>0.011335</td>\n",
       "      <td>0.016471</td>\n",
       "      <td>15800000.0</td>\n",
       "      <td>0.688194</td>\n",
       "      <td>34.535532</td>\n",
       "    </tr>\n",
       "    <tr>\n",
       "      <th>95</th>\n",
       "      <td>0.011999</td>\n",
       "      <td>0.015998</td>\n",
       "      <td>15800000.0</td>\n",
       "      <td>0.750004</td>\n",
       "      <td>36.870043</td>\n",
       "    </tr>\n",
       "    <tr>\n",
       "      <th>96</th>\n",
       "      <td>0.012610</td>\n",
       "      <td>0.015514</td>\n",
       "      <td>15800000.0</td>\n",
       "      <td>0.812819</td>\n",
       "      <td>39.104872</td>\n",
       "    </tr>\n",
       "    <tr>\n",
       "      <th>97</th>\n",
       "      <td>0.013156</td>\n",
       "      <td>0.015057</td>\n",
       "      <td>15900000.0</td>\n",
       "      <td>0.873734</td>\n",
       "      <td>41.144813</td>\n",
       "    </tr>\n",
       "    <tr>\n",
       "      <th>98</th>\n",
       "      <td>0.013711</td>\n",
       "      <td>0.014561</td>\n",
       "      <td>15900000.0</td>\n",
       "      <td>0.941644</td>\n",
       "      <td>43.278492</td>\n",
       "    </tr>\n",
       "    <tr>\n",
       "      <th>99</th>\n",
       "      <td>0.014147</td>\n",
       "      <td>0.014129</td>\n",
       "      <td>15900000.0</td>\n",
       "      <td>1.001277</td>\n",
       "      <td>45.036561</td>\n",
       "    </tr>\n",
       "  </tbody>\n",
       "</table>\n",
       "<p>100 rows × 5 columns</p>\n",
       "</div>"
      ],
      "text/plain": [
       "           r         z           E    r_by_z        ang\n",
       "0   0.000999  0.019971  15800000.0  0.050022   2.863665\n",
       "1   0.001991  0.019894  15800000.0  0.100068   5.714442\n",
       "2   0.002966  0.019770  15700000.0  0.150027   8.532268\n",
       "3   0.003917  0.019604  15700000.0  0.199790  11.298362\n",
       "4   0.004837  0.019403  15700000.0  0.249270  13.996864\n",
       "5   0.005767  0.019148  15600000.0  0.301168  16.760640\n",
       "6   0.006617  0.018866  15600000.0  0.350723  19.326950\n",
       "7   0.007417  0.018564  15700000.0  0.399554  21.779380\n",
       "8   0.008166  0.018254  15700000.0  0.447339  24.100839\n",
       "9   0.008980  0.017865  15600000.0  0.502651  26.686440\n",
       "10  0.009631  0.017519  15700000.0  0.549712  28.798103\n",
       "11  0.010229  0.017184  15800000.0  0.595282  30.764559\n",
       "12  0.010946  0.016733  15700000.0  0.654141  33.190360\n",
       "13  0.011437  0.016399  15800000.0  0.697410  34.892289\n",
       "14  0.012061  0.015954  15900000.0  0.755982  37.088608\n",
       "15  0.012483  0.015616  15800000.0  0.799349  38.637064\n",
       "16  0.012960  0.015232  15900000.0  0.850850  40.392804\n",
       "17  0.013389  0.014849  15900000.0  0.901657  42.039621\n",
       "18  0.013711  0.014561  15900000.0  0.941644  43.278492\n",
       "19  0.014166  0.014110  15900000.0  1.004026  45.115090\n",
       "20  0.000029  0.019999  15800000.0  0.001440   0.082509\n",
       "21  0.001028  0.019970  15800000.0  0.051475   2.946689\n",
       "22  0.002077  0.019886  15800000.0  0.104464   5.963694\n",
       "23  0.003111  0.019748  15700000.0  0.157508   8.951026\n",
       "24  0.004118  0.019562  15700000.0  0.210523  11.888461\n",
       "25  0.005091  0.019333  15600000.0  0.263340  14.753329\n",
       "26  0.006023  0.019067  15700000.0  0.315867  17.529610\n",
       "27  0.006920  0.018763  15600000.0  0.368805  20.244232\n",
       "28  0.007766  0.018423  15600000.0  0.421531  22.856952\n",
       "29  0.008555  0.018068  15700000.0  0.473471  25.336200\n",
       "..       ...       ...         ...       ...        ...\n",
       "70  0.008519  0.018085  15700000.0  0.471022  25.221468\n",
       "71  0.009367  0.017665  15700000.0  0.530263  27.935372\n",
       "72  0.010134  0.017242  15700000.0  0.587728  30.443928\n",
       "73  0.010864  0.016784  15700000.0  0.647294  32.914728\n",
       "74  0.011526  0.016335  15800000.0  0.705642  35.208381\n",
       "75  0.012122  0.015905  15900000.0  0.762117  37.311652\n",
       "76  0.012730  0.015417  15800000.0  0.825707  39.546727\n",
       "77  0.013214  0.015005  15900000.0  0.880642  41.368501\n",
       "78  0.013711  0.014561  15900000.0  0.941644  43.278492\n",
       "79  0.014152  0.014124  15900000.0  1.001963  45.056194\n",
       "80  0.014483  0.013790  16000000.0  1.050284  46.404917\n",
       "81  0.014938  0.013292  15900000.0  1.123824  48.336693\n",
       "82  0.015176  0.013023  16000000.0  1.165371  49.367244\n",
       "83  0.000115  0.019997  15800000.0  0.005751   0.329502\n",
       "84  0.001345  0.019950  15800000.0  0.067414   3.856688\n",
       "85  0.002566  0.019829  15800000.0  0.129383   7.372154\n",
       "86  0.003765  0.019636  15700000.0  0.191741  10.854193\n",
       "87  0.004925  0.019379  15700000.0  0.254138  14.259143\n",
       "88  0.006035  0.019062  15700000.0  0.316592  17.567364\n",
       "89  0.007094  0.018696  15700000.0  0.379436  20.778555\n",
       "90  0.007952  0.018347  15600000.0  0.433440  23.433849\n",
       "91  0.008908  0.017899  15600000.0  0.497646  26.457050\n",
       "92  0.009790  0.017431  15700000.0  0.561641  29.320347\n",
       "93  0.010598  0.016951  15800000.0  0.625213  32.014143\n",
       "94  0.011335  0.016471  15800000.0  0.688194  34.535532\n",
       "95  0.011999  0.015998  15800000.0  0.750004  36.870043\n",
       "96  0.012610  0.015514  15800000.0  0.812819  39.104872\n",
       "97  0.013156  0.015057  15900000.0  0.873734  41.144813\n",
       "98  0.013711  0.014561  15900000.0  0.941644  43.278492\n",
       "99  0.014147  0.014129  15900000.0  1.001277  45.036561\n",
       "\n",
       "[100 rows x 5 columns]"
      ]
     },
     "execution_count": 14,
     "metadata": {},
     "output_type": "execute_result"
    }
   ],
   "source": [
    "df.head(100)"
   ]
  },
  {
   "cell_type": "markdown",
   "metadata": {},
   "source": [
    "### Plot"
   ]
  },
  {
   "cell_type": "code",
   "execution_count": 12,
   "metadata": {
    "collapsed": true
   },
   "outputs": [],
   "source": [
    "%matplotlib inline"
   ]
  },
  {
   "cell_type": "code",
   "execution_count": 15,
   "metadata": {
    "collapsed": false
   },
   "outputs": [
    {
     "data": {
      "text/plain": [
       "<matplotlib.figure.Figure at 0x118e62a50>"
      ]
     },
     "metadata": {},
     "output_type": "display_data"
    },
    {
     "data": {
      "image/png": "[encoded data removed]",
      "text/plain": [
       "<matplotlib.figure.Figure at 0x118e8a510>"
      ]
     },
     "metadata": {},
     "output_type": "display_data"
    }
   ],
   "source": [
    "plt.figure(1)\n",
    "plt.figure(figsize=(12, 12))\n",
    "\n",
    "plt.subplot(2,2,1)\n",
    "plt.grid()\n",
    "plt.title('z vs E')\n",
    "plt.xlabel('z')\n",
    "plt.ylabel('E')\n",
    "plt.scatter(df['z'],df['E'])\n",
    "\n",
    "\n",
    "plt.subplot(2,2,2)\n",
    "plt.grid()\n",
    "plt.title('r vs E')\n",
    "plt.xlabel('r')\n",
    "plt.ylabel('E')\n",
    "plt.scatter(df['r'],df['E'])\n",
    "\n",
    "\n",
    "plt.subplot(2,2,3)\n",
    "plt.grid()\n",
    "plt.title('r vs z')\n",
    "plt.xlabel('r')\n",
    "plt.ylabel('z')\n",
    "plt.scatter(df['r'],df['z'])\n",
    "\n",
    "plt.subplot(2,2,4)\n",
    "plt.grid()\n",
    "plt.title('z vs ang')\n",
    "plt.xlabel('z')\n",
    "plt.ylabel('ang')\n",
    "plt.scatter(df['r'],df['ang'])\n",
    "\n",
    "plt.show()"
   ]
  },
  {
   "cell_type": "code",
   "execution_count": 421,
   "metadata": {
    "collapsed": false
   },
   "outputs": [
    {
     "name": "stdout",
     "output_type": "stream",
     "text": [
      "3.14159265359\n"
     ]
    }
   ],
   "source": [
    "nangles = 10\n",
    "pi = math.pi\n",
    "print pi"
   ]
  },
  {
   "cell_type": "code",
   "execution_count": 422,
   "metadata": {
    "collapsed": false
   },
   "outputs": [],
   "source": [
    "ntheta = [0.0 for k in range(nangles)]\n",
    "for k in range(nangles):\n",
    "    ntheta[k] =  -90.0+((180/float(nangles))*k)"
   ]
  },
  {
   "cell_type": "code",
   "execution_count": 423,
   "metadata": {
    "collapsed": false
   },
   "outputs": [
    {
     "data": {
      "text/plain": [
       "[-90.0, -72.0, -54.0, -36.0, -18.0, 0.0, 18.0, 36.0, 54.0, 72.0]"
      ]
     },
     "execution_count": 423,
     "metadata": {},
     "output_type": "execute_result"
    }
   ],
   "source": [
    "ntheta"
   ]
  },
  {
   "cell_type": "code",
   "execution_count": 424,
   "metadata": {
    "collapsed": false
   },
   "outputs": [
    {
     "data": {
      "text/plain": [
       "860"
      ]
     },
     "execution_count": 424,
     "metadata": {},
     "output_type": "execute_result"
    }
   ],
   "source": [
    "dn = df.shape[0]"
   ]
  },
  {
   "cell_type": "code",
   "execution_count": 484,
   "metadata": {
    "collapsed": false
   },
   "outputs": [],
   "source": [
    " ntheta.append(90.0)"
   ]
  },
  {
   "cell_type": "code",
   "execution_count": 485,
   "metadata": {
    "collapsed": false
   },
   "outputs": [
    {
     "data": {
      "text/plain": [
       "[-90.0, -72.0, -54.0, -36.0, -18.0, 0.0, 18.0, 36.0, 54.0, 72.0, 90.0]"
      ]
     },
     "execution_count": 485,
     "metadata": {},
     "output_type": "execute_result"
    }
   ],
   "source": [
    "ntheta"
   ]
  },
  {
   "cell_type": "markdown",
   "metadata": {},
   "source": [
    "----------------"
   ]
  },
  {
   "cell_type": "markdown",
   "metadata": {},
   "source": [
    "### Find mean E"
   ]
  },
  {
   "cell_type": "markdown",
   "metadata": {},
   "source": [
    "-------------"
   ]
  },
  {
   "cell_type": "code",
   "execution_count": 514,
   "metadata": {
    "collapsed": true
   },
   "outputs": [],
   "source": [
    "E_mean = []\n",
    "for k in range(nangles):\n",
    "    df1 = df[(df['ang'] >  ntheta[k])]\n",
    "    df1 = df1[(df1['ang'] < ntheta[k+1])]\n",
    "    df1 = df1.dropna(subset=['ang'])\n",
    "    E_mean.append(df1['E'].mean())"
   ]
  },
  {
   "cell_type": "code",
   "execution_count": 487,
   "metadata": {
    "collapsed": false
   },
   "outputs": [
    {
     "data": {
      "text/plain": [
       "[17364102.564102564,\n",
       " 18058536.585365854,\n",
       " 18668103.44827586,\n",
       " 19079069.76744186,\n",
       " 19339473.684210528,\n",
       " 15736363.636363637,\n",
       " 15696551.72413793,\n",
       " 15924561.403508771,\n",
       " 16325000.0,\n",
       " 16784482.75862069]"
      ]
     },
     "execution_count": 487,
     "metadata": {},
     "output_type": "execute_result"
    }
   ],
   "source": [
    "E_mean"
   ]
  },
  {
   "cell_type": "code",
   "execution_count": 490,
   "metadata": {
    "collapsed": false
   },
   "outputs": [
    {
     "data": {
      "text/plain": [
       "<function matplotlib.pyplot.show>"
      ]
     },
     "execution_count": 490,
     "metadata": {},
     "output_type": "execute_result"
    },
    {
     "data": {
      "image/png": "[encoded data removed]",
      "text/plain": [
       "<matplotlib.figure.Figure at 0x11acb1210>"
      ]
     },
     "metadata": {},
     "output_type": "display_data"
    }
   ],
   "source": [
    "plt.figure(2)\n",
    "plt.grid()\n",
    "plt.title('theta vs E')\n",
    "plt.xlabel('theta')\n",
    "plt.ylabel('E')\n",
    "plt.scatter(ntheta[0:10],E_mean)\n",
    "plt.show"
   ]
  },
  {
   "cell_type": "code",
   "execution_count": 511,
   "metadata": {
    "collapsed": false
   },
   "outputs": [],
   "source": [
    "Q = 0.0\n",
    "for k in range(nangles):\n",
    "    Q = Q + 2.0*math.pi*0.02*8.85e-12*E_mean[k]*\\\n",
    "    (math.cos((ntheta[k+1]/180)*math.pi) - math.cos((ntheta[k]/180)*math.pi))"
   ]
  },
  {
   "cell_type": "code",
   "execution_count": 512,
   "metadata": {
    "collapsed": false
   },
   "outputs": [
    {
     "data": {
      "text/plain": [
       "2.1420904915867225e-06"
      ]
     },
     "execution_count": 512,
     "metadata": {},
     "output_type": "execute_result"
    }
   ],
   "source": [
    "Q"
   ]
  },
  {
   "cell_type": "markdown",
   "metadata": {},
   "source": [
    "------------------"
   ]
  },
  {
   "cell_type": "markdown",
   "metadata": {},
   "source": [
    "### Q - Finder"
   ]
  },
  {
   "cell_type": "markdown",
   "metadata": {},
   "source": [
    "-------------"
   ]
  },
  {
   "cell_type": "code",
   "execution_count": 608,
   "metadata": {
    "collapsed": true
   },
   "outputs": [],
   "source": [
    "import matplotlib.pyplot as plt\n",
    "import pandas as pd\n",
    "import numpy as np\n",
    "import re\n",
    "import math as math\n",
    "import pprint as pp"
   ]
  },
  {
   "cell_type": "code",
   "execution_count": 609,
   "metadata": {
    "collapsed": true
   },
   "outputs": [],
   "source": [
    "def subplotter(a,b,c,xlab,ylab,title,x,y):\n",
    "    plt.subplot(a,b,c)\n",
    "    plt.grid()\n",
    "    plt.title(title)\n",
    "    plt.xlabel(xlab)\n",
    "    plt.ylabel(ylab)\n",
    "    plt.scatter(x,y)\n",
    "    return\n"
   ]
  },
  {
   "cell_type": "code",
   "execution_count": 610,
   "metadata": {
    "collapsed": true
   },
   "outputs": [],
   "source": [
    "def plotter(df):\n",
    "    plt.figure(1)\n",
    "    plt.figure(figsize=(12, 12))\n",
    "    subplotter(2,2,1,xlab ='z',ylab = 'E',title = 'z vs E',x = df['z'],y = df['E'])\n",
    "    subplotter(2,2,2,xlab ='r',ylab = 'E',title = 'r vs E',x = df['r'],y = df['E'])\n",
    "    subplotter(2,2,3,xlab ='r',ylab = 'z',title = 'r vs z',x = df['r'],y = df['z'])\n",
    "    subplotter(2,2,4,xlab ='r',ylab = 'ang',title = 'r vs ang',x = df['r'],y = df['ang'])\n",
    "    plt.show()\n",
    "    return"
   ]
  },
  {
   "cell_type": "code",
   "execution_count": 611,
   "metadata": {
    "collapsed": false
   },
   "outputs": [],
   "source": [
    "def Qfinder(df,nangles,verbose): \n",
    "    \n",
    "    df.columns = ['r','z','E']\n",
    "    df['z'] = df['z'].apply(lambda x: 1.00-x)\n",
    "    df['r_by_z'] = (df['r']/(df['z']))\n",
    "    df['ang'] = df['r_by_z'].apply(lambda x: math.atan(x)*(180/math.pi))\n",
    "    \n",
    "    \n",
    "    plotter(df)\n",
    "    \n",
    "    if verbose: \n",
    "        print \"shape of file = \", df.shape\n",
    "\n",
    "\n",
    "\n",
    "    ntheta = np.linspace(-90,90,nangles+1) \n",
    "    if verbose: \n",
    "        print\"===============================================================================\" \n",
    "        print \"ntheta = \", ntheta\n",
    "    \n",
    "    \n",
    "    \n",
    "    E_mean = []\n",
    "    for k in range(nangles):\n",
    "        df1 = df[(df['ang'] >  ntheta[k])]\n",
    "        df1 = df1[(df1['ang'] < ntheta[k+1])]\n",
    "        df1 = df1.dropna(subset=['ang'])\n",
    "        E_mean.append(df1['E'].mean())\n",
    "        \n",
    "    if verbose:     \n",
    "        print\"===============================================================================\"        \n",
    "        print \"E_mean = \"\n",
    "        pp.pprint(E_mean)\n",
    "\n",
    "\n",
    "\n",
    "\n",
    "    Q = 0.0\n",
    "    for k in range(nangles):\n",
    "        Q = Q + 2.0*math.pi*0.02*8.85e-12*E_mean[k]*\\\n",
    "                (math.cos((ntheta[k+1]/180)*math.pi) - math.cos((ntheta[k]/180)*math.pi))\n",
    "            \n",
    "    if verbose:         \n",
    "        print\"===============================================================================\"\n",
    "        print \"Q found = \",Q\n",
    "\n",
    "\n",
    "    return Q"
   ]
  },
  {
   "cell_type": "markdown",
   "metadata": {},
   "source": [
    "----------"
   ]
  },
  {
   "cell_type": "code",
   "execution_count": 612,
   "metadata": {
    "collapsed": false
   },
   "outputs": [
    {
     "data": {
      "text/plain": [
       "<matplotlib.figure.Figure at 0x11a83e150>"
      ]
     },
     "metadata": {},
     "output_type": "display_data"
    },
    {
     "data": {
      "image/png": "[encoded data removed]",
      "text/plain": [
       "<matplotlib.figure.Figure at 0x11a4997d0>"
      ]
     },
     "metadata": {},
     "output_type": "display_data"
    },
    {
     "name": "stdout",
     "output_type": "stream",
     "text": [
      "shape of file =  (860, 5)\n",
      "===============================================================================\n",
      "ntheta =  [-90. -81. -72. -63. -54. -45. -36. -27. -18.  -9.   0.   9.  18.  27.  36.\n",
      "  45.  54.  63.  72.  81.  90.]\n",
      "===============================================================================\n",
      "E_mean = \n",
      "[17202325.58139535,\n",
      " 17562857.14285714,\n",
      " 17866666.666666668,\n",
      " 18232558.139534883,\n",
      " 18592063.492063493,\n",
      " 18758490.566037737,\n",
      " 18958139.534883723,\n",
      " 19200000.0,\n",
      " 19368750.0,\n",
      " 19318181.818181816,\n",
      " 15788636.363636363,\n",
      " 15666666.666666666,\n",
      " 15646511.627906976,\n",
      " 15745454.545454545,\n",
      " 15865000.0,\n",
      " 15990740.74074074,\n",
      " 16222727.272727273,\n",
      " 16437500.0,\n",
      " 16690909.090909092,\n",
      " 16908000.0]\n",
      "===============================================================================\n",
      "Q found =  2.13117950235e-06\n"
     ]
    }
   ],
   "source": [
    "df = pd.read_csv('center.csv')\n",
    "nangles = 20   \n",
    "    \n",
    "Q = Qfinder(df,nangles,verbose = True)"
   ]
  },
  {
   "cell_type": "code",
   "execution_count": null,
   "metadata": {
    "collapsed": true
   },
   "outputs": [],
   "source": []
  },
  {
   "cell_type": "code",
   "execution_count": null,
   "metadata": {
    "collapsed": true
   },
   "outputs": [],
   "source": []
  }
 ],
 "metadata": {
  "kernelspec": {
   "display_name": "Python 2",
   "language": "python",
   "name": "python2"
  },
  "language_info": {
   "codemirror_mode": {
    "name": "ipython",
    "version": 2
   },
   "file_extension": ".py",
   "mimetype": "text/x-python",
   "name": "python",
   "nbconvert_exporter": "python",
   "pygments_lexer": "ipython2",
   "version": "2.7.11"
  }
 },
 "nbformat": 4,
 "nbformat_minor": 0
}
